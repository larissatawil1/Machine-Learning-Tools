{
 "cells": [
  {
   "cell_type": "code",
   "execution_count": null,
   "id": "747371c1",
   "metadata": {},
   "outputs": [],
   "source": [
    "# Step 1: Import Packages"
   ]
  },
  {
   "cell_type": "code",
   "execution_count": 25,
   "id": "83c95e3c",
   "metadata": {},
   "outputs": [],
   "source": [
    "import pandas as pd\n",
    "import matplotlib.pyplot as plt\n",
    "import numpy as np\n",
    "from sklearn import tree\n",
    "from sklearn.tree import DecisionTreeClassifier"
   ]
  },
  {
   "cell_type": "code",
   "execution_count": 26,
   "id": "cb810894",
   "metadata": {},
   "outputs": [
    {
     "name": "stderr",
     "output_type": "stream",
     "text": [
      "/opt/anaconda3/lib/python3.8/site-packages/IPython/core/interactiveshell.py:3165: DtypeWarning: Columns (0,1,2,3,4,5,6,7,10,11,16,17,20,21,22,25,26,27,28,29,30,31,32,33,34,35,36,37,39,40,41,42,43,44,45,47,48,49,50,51,52,53,55,56,57,58,59,60,61,63,64,65,66,68,69,70,71,72,73,74,77,79,80,81,82,83,84,85,86,87,88,89,90,91,92,93,94,95,100,101,103,104,105,106,107,108,109,110,111,112,113,114,115,116,117,118,119,120,121,122,123,124,125,126,127,128,129,130,131,132,133,134,135,136,137,138,139,140,141,142,143,144,145,146,147,148,149,150,153) have mixed types.Specify dtype option on import or set low_memory=False.\n",
      "  has_raised = await self.run_ast_nodes(code_ast.body, cell_name,\n"
     ]
    }
   ],
   "source": [
    "# Step 2: Import Using Zip Extractor\n",
    "\n",
    "import zipfile\n",
    "\n",
    "zf = zipfile.ZipFile(\"us_perm_visas.csv.zip\") \n",
    "df = pd.read_csv(zf.open('us_perm_visas.csv'))"
   ]
  },
  {
   "cell_type": "code",
   "execution_count": 27,
   "id": "e951d0e3",
   "metadata": {},
   "outputs": [
    {
     "data": {
      "text/html": [
       "<div>\n",
       "<style scoped>\n",
       "    .dataframe tbody tr th:only-of-type {\n",
       "        vertical-align: middle;\n",
       "    }\n",
       "\n",
       "    .dataframe tbody tr th {\n",
       "        vertical-align: top;\n",
       "    }\n",
       "\n",
       "    .dataframe thead th {\n",
       "        text-align: right;\n",
       "    }\n",
       "</style>\n",
       "<table border=\"1\" class=\"dataframe\">\n",
       "  <thead>\n",
       "    <tr style=\"text-align: right;\">\n",
       "      <th></th>\n",
       "      <th>add_these_pw_job_title_9089</th>\n",
       "      <th>agent_city</th>\n",
       "      <th>agent_firm_name</th>\n",
       "      <th>agent_state</th>\n",
       "      <th>application_type</th>\n",
       "      <th>case_no</th>\n",
       "      <th>case_number</th>\n",
       "      <th>case_received_date</th>\n",
       "      <th>case_status</th>\n",
       "      <th>class_of_admission</th>\n",
       "      <th>...</th>\n",
       "      <th>ri_pvt_employment_firm_to</th>\n",
       "      <th>ri_us_workers_considered</th>\n",
       "      <th>schd_a_sheepherder</th>\n",
       "      <th>us_economic_sector</th>\n",
       "      <th>wage_offer_from_9089</th>\n",
       "      <th>wage_offer_to_9089</th>\n",
       "      <th>wage_offer_unit_of_pay_9089</th>\n",
       "      <th>wage_offered_from_9089</th>\n",
       "      <th>wage_offered_to_9089</th>\n",
       "      <th>wage_offered_unit_of_pay_9089</th>\n",
       "    </tr>\n",
       "  </thead>\n",
       "  <tbody>\n",
       "    <tr>\n",
       "      <th>0</th>\n",
       "      <td>NaN</td>\n",
       "      <td>NaN</td>\n",
       "      <td>NaN</td>\n",
       "      <td>NaN</td>\n",
       "      <td>PERM</td>\n",
       "      <td>A-07323-97014</td>\n",
       "      <td>NaN</td>\n",
       "      <td>NaN</td>\n",
       "      <td>Certified</td>\n",
       "      <td>J-1</td>\n",
       "      <td>...</td>\n",
       "      <td>NaN</td>\n",
       "      <td>NaN</td>\n",
       "      <td>NaN</td>\n",
       "      <td>IT</td>\n",
       "      <td>75629.0</td>\n",
       "      <td>NaN</td>\n",
       "      <td>yr</td>\n",
       "      <td>NaN</td>\n",
       "      <td>NaN</td>\n",
       "      <td>NaN</td>\n",
       "    </tr>\n",
       "    <tr>\n",
       "      <th>1</th>\n",
       "      <td>NaN</td>\n",
       "      <td>NaN</td>\n",
       "      <td>NaN</td>\n",
       "      <td>NaN</td>\n",
       "      <td>PERM</td>\n",
       "      <td>A-07332-99439</td>\n",
       "      <td>NaN</td>\n",
       "      <td>NaN</td>\n",
       "      <td>Denied</td>\n",
       "      <td>B-2</td>\n",
       "      <td>...</td>\n",
       "      <td>NaN</td>\n",
       "      <td>NaN</td>\n",
       "      <td>NaN</td>\n",
       "      <td>Other Economic Sector</td>\n",
       "      <td>37024.0</td>\n",
       "      <td>NaN</td>\n",
       "      <td>yr</td>\n",
       "      <td>NaN</td>\n",
       "      <td>NaN</td>\n",
       "      <td>NaN</td>\n",
       "    </tr>\n",
       "    <tr>\n",
       "      <th>2</th>\n",
       "      <td>NaN</td>\n",
       "      <td>NaN</td>\n",
       "      <td>NaN</td>\n",
       "      <td>NaN</td>\n",
       "      <td>PERM</td>\n",
       "      <td>A-07333-99643</td>\n",
       "      <td>NaN</td>\n",
       "      <td>NaN</td>\n",
       "      <td>Certified</td>\n",
       "      <td>H-1B</td>\n",
       "      <td>...</td>\n",
       "      <td>NaN</td>\n",
       "      <td>NaN</td>\n",
       "      <td>NaN</td>\n",
       "      <td>Aerospace</td>\n",
       "      <td>47923.0</td>\n",
       "      <td>NaN</td>\n",
       "      <td>yr</td>\n",
       "      <td>NaN</td>\n",
       "      <td>NaN</td>\n",
       "      <td>NaN</td>\n",
       "    </tr>\n",
       "    <tr>\n",
       "      <th>3</th>\n",
       "      <td>NaN</td>\n",
       "      <td>NaN</td>\n",
       "      <td>NaN</td>\n",
       "      <td>NaN</td>\n",
       "      <td>PERM</td>\n",
       "      <td>A-07339-01930</td>\n",
       "      <td>NaN</td>\n",
       "      <td>NaN</td>\n",
       "      <td>Certified</td>\n",
       "      <td>B-2</td>\n",
       "      <td>...</td>\n",
       "      <td>NaN</td>\n",
       "      <td>NaN</td>\n",
       "      <td>NaN</td>\n",
       "      <td>Other Economic Sector</td>\n",
       "      <td>10.97</td>\n",
       "      <td>NaN</td>\n",
       "      <td>hr</td>\n",
       "      <td>NaN</td>\n",
       "      <td>NaN</td>\n",
       "      <td>NaN</td>\n",
       "    </tr>\n",
       "    <tr>\n",
       "      <th>4</th>\n",
       "      <td>NaN</td>\n",
       "      <td>NaN</td>\n",
       "      <td>NaN</td>\n",
       "      <td>NaN</td>\n",
       "      <td>PERM</td>\n",
       "      <td>A-07345-03565</td>\n",
       "      <td>NaN</td>\n",
       "      <td>NaN</td>\n",
       "      <td>Certified</td>\n",
       "      <td>L-1</td>\n",
       "      <td>...</td>\n",
       "      <td>NaN</td>\n",
       "      <td>NaN</td>\n",
       "      <td>NaN</td>\n",
       "      <td>Advanced Mfg</td>\n",
       "      <td>100000.0</td>\n",
       "      <td>NaN</td>\n",
       "      <td>yr</td>\n",
       "      <td>NaN</td>\n",
       "      <td>NaN</td>\n",
       "      <td>NaN</td>\n",
       "    </tr>\n",
       "  </tbody>\n",
       "</table>\n",
       "<p>5 rows × 154 columns</p>\n",
       "</div>"
      ],
      "text/plain": [
       "  add_these_pw_job_title_9089 agent_city agent_firm_name agent_state  \\\n",
       "0                         NaN        NaN             NaN         NaN   \n",
       "1                         NaN        NaN             NaN         NaN   \n",
       "2                         NaN        NaN             NaN         NaN   \n",
       "3                         NaN        NaN             NaN         NaN   \n",
       "4                         NaN        NaN             NaN         NaN   \n",
       "\n",
       "  application_type        case_no case_number case_received_date case_status  \\\n",
       "0             PERM  A-07323-97014         NaN                NaN   Certified   \n",
       "1             PERM  A-07332-99439         NaN                NaN      Denied   \n",
       "2             PERM  A-07333-99643         NaN                NaN   Certified   \n",
       "3             PERM  A-07339-01930         NaN                NaN   Certified   \n",
       "4             PERM  A-07345-03565         NaN                NaN   Certified   \n",
       "\n",
       "  class_of_admission  ... ri_pvt_employment_firm_to ri_us_workers_considered  \\\n",
       "0                J-1  ...                       NaN                      NaN   \n",
       "1                B-2  ...                       NaN                      NaN   \n",
       "2               H-1B  ...                       NaN                      NaN   \n",
       "3                B-2  ...                       NaN                      NaN   \n",
       "4                L-1  ...                       NaN                      NaN   \n",
       "\n",
       "  schd_a_sheepherder     us_economic_sector wage_offer_from_9089  \\\n",
       "0                NaN                     IT              75629.0   \n",
       "1                NaN  Other Economic Sector              37024.0   \n",
       "2                NaN              Aerospace              47923.0   \n",
       "3                NaN  Other Economic Sector                10.97   \n",
       "4                NaN           Advanced Mfg             100000.0   \n",
       "\n",
       "  wage_offer_to_9089 wage_offer_unit_of_pay_9089 wage_offered_from_9089  \\\n",
       "0                NaN                          yr                    NaN   \n",
       "1                NaN                          yr                    NaN   \n",
       "2                NaN                          yr                    NaN   \n",
       "3                NaN                          hr                    NaN   \n",
       "4                NaN                          yr                    NaN   \n",
       "\n",
       "  wage_offered_to_9089  wage_offered_unit_of_pay_9089  \n",
       "0                  NaN                            NaN  \n",
       "1                  NaN                            NaN  \n",
       "2                  NaN                            NaN  \n",
       "3                  NaN                            NaN  \n",
       "4                  NaN                            NaN  \n",
       "\n",
       "[5 rows x 154 columns]"
      ]
     },
     "execution_count": 27,
     "metadata": {},
     "output_type": "execute_result"
    }
   ],
   "source": [
    "# Step 3: Choose 3 variables you think are important, case_status is your target variable\n",
    "\n",
    "df.head()"
   ]
  },
  {
   "cell_type": "code",
   "execution_count": 28,
   "id": "8d46f925",
   "metadata": {},
   "outputs": [
    {
     "name": "stdout",
     "output_type": "stream",
     "text": [
      "add_these_pw_job_title_9089\n",
      "agent_city\n",
      "agent_firm_name\n",
      "agent_state\n",
      "application_type\n",
      "case_no\n",
      "case_number\n",
      "case_received_date\n",
      "case_status\n",
      "class_of_admission\n",
      "country_of_citizenship\n",
      "country_of_citzenship\n",
      "decision_date\n",
      "employer_address_1\n",
      "employer_address_2\n",
      "employer_city\n",
      "employer_country\n",
      "employer_decl_info_title\n",
      "employer_name\n",
      "employer_num_employees\n",
      "employer_phone\n",
      "employer_phone_ext\n",
      "employer_postal_code\n",
      "employer_state\n",
      "employer_yr_estab\n",
      "foreign_worker_info_alt_edu_experience\n",
      "foreign_worker_info_birth_country\n",
      "foreign_worker_info_city\n",
      "foreign_worker_info_education\n",
      "foreign_worker_info_education_other\n",
      "foreign_worker_info_inst\n",
      "foreign_worker_info_major\n",
      "foreign_worker_info_postal_code\n",
      "foreign_worker_info_rel_occup_exp\n",
      "foreign_worker_info_req_experience\n",
      "foreign_worker_info_state\n",
      "foreign_worker_info_training_comp\n",
      "foreign_worker_ownership_interest\n",
      "foreign_worker_yr_rel_edu_completed\n",
      "fw_info_alt_edu_experience\n",
      "fw_info_birth_country\n",
      "fw_info_education_other\n",
      "fw_info_postal_code\n",
      "fw_info_rel_occup_exp\n",
      "fw_info_req_experience\n",
      "fw_info_training_comp\n",
      "fw_info_yr_rel_edu_completed\n",
      "fw_ownership_interest\n",
      "ji_foreign_worker_live_on_premises\n",
      "ji_fw_live_on_premises\n",
      "ji_live_in_dom_svc_contract\n",
      "ji_live_in_domestic_service\n",
      "ji_offered_to_sec_j_foreign_worker\n",
      "ji_offered_to_sec_j_fw\n",
      "job_info_alt_cmb_ed_oth_yrs\n",
      "job_info_alt_combo_ed\n",
      "job_info_alt_combo_ed_exp\n",
      "job_info_alt_combo_ed_other\n",
      "job_info_alt_field\n",
      "job_info_alt_field_name\n",
      "job_info_alt_occ\n",
      "job_info_alt_occ_job_title\n",
      "job_info_alt_occ_num_months\n",
      "job_info_combo_occupation\n",
      "job_info_education\n",
      "job_info_education_other\n",
      "job_info_experience\n",
      "job_info_experience_num_months\n",
      "job_info_foreign_ed\n",
      "job_info_foreign_lang_req\n",
      "job_info_job_req_normal\n",
      "job_info_job_title\n",
      "job_info_major\n",
      "job_info_training\n",
      "job_info_training_field\n",
      "job_info_training_num_months\n",
      "job_info_work_city\n",
      "job_info_work_postal_code\n",
      "job_info_work_state\n",
      "naics_2007_us_code\n",
      "naics_2007_us_title\n",
      "naics_code\n",
      "naics_title\n",
      "naics_us_code\n",
      "naics_us_code_2007\n",
      "naics_us_title\n",
      "naics_us_title_2007\n",
      "orig_case_no\n",
      "orig_file_date\n",
      "preparer_info_emp_completed\n",
      "preparer_info_title\n",
      "pw_amount_9089\n",
      "pw_determ_date\n",
      "pw_expire_date\n",
      "pw_job_title_908\n",
      "pw_job_title_9089\n",
      "pw_level_9089\n",
      "pw_soc_code\n",
      "pw_soc_title\n",
      "pw_source_name_9089\n",
      "pw_source_name_other_9089\n",
      "pw_track_num\n",
      "pw_unit_of_pay_9089\n",
      "rec_info_barg_rep_notified\n",
      "recr_info_barg_rep_notified\n",
      "recr_info_coll_teach_comp_proc\n",
      "recr_info_coll_univ_teacher\n",
      "recr_info_employer_rec_payment\n",
      "recr_info_first_ad_start\n",
      "recr_info_job_fair_from\n",
      "recr_info_job_fair_to\n",
      "recr_info_on_campus_recr_from\n",
      "recr_info_on_campus_recr_to\n",
      "recr_info_pro_org_advert_from\n",
      "recr_info_pro_org_advert_to\n",
      "recr_info_prof_org_advert_from\n",
      "recr_info_prof_org_advert_to\n",
      "recr_info_professional_occ\n",
      "recr_info_radio_tv_ad_from\n",
      "recr_info_radio_tv_ad_to\n",
      "recr_info_second_ad_start\n",
      "recr_info_sunday_newspaper\n",
      "recr_info_swa_job_order_end\n",
      "recr_info_swa_job_order_start\n",
      "refile\n",
      "ri_1st_ad_newspaper_name\n",
      "ri_2nd_ad_newspaper_name\n",
      "ri_2nd_ad_newspaper_or_journal\n",
      "ri_campus_placement_from\n",
      "ri_campus_placement_to\n",
      "ri_coll_tch_basic_process\n",
      "ri_coll_teach_pro_jnl\n",
      "ri_coll_teach_select_date\n",
      "ri_employee_referral_prog_from\n",
      "ri_employee_referral_prog_to\n",
      "ri_employer_web_post_from\n",
      "ri_employer_web_post_to\n",
      "ri_job_search_website_from\n",
      "ri_job_search_website_to\n",
      "ri_layoff_in_past_six_months\n",
      "ri_local_ethnic_paper_from\n",
      "ri_local_ethnic_paper_to\n",
      "ri_posted_notice_at_worksite\n",
      "ri_pvt_employment_firm_from\n",
      "ri_pvt_employment_firm_to\n",
      "ri_us_workers_considered\n",
      "schd_a_sheepherder\n",
      "us_economic_sector\n",
      "wage_offer_from_9089\n",
      "wage_offer_to_9089\n",
      "wage_offer_unit_of_pay_9089\n",
      "wage_offered_from_9089\n",
      "wage_offered_to_9089\n",
      "wage_offered_unit_of_pay_9089\n"
     ]
    }
   ],
   "source": [
    "for i in df.columns:\n",
    "  print(i)"
   ]
  },
  {
   "cell_type": "code",
   "execution_count": 31,
   "id": "92c36fa3",
   "metadata": {},
   "outputs": [
    {
     "data": {
      "text/plain": [
       "Index(['case_status', 'class_of_admission', 'application_type'], dtype='object')"
      ]
     },
     "execution_count": 31,
     "metadata": {},
     "output_type": "execute_result"
    }
   ],
   "source": [
    "df_select = df[[\"case_status\", \"class_of_admission\", \"application_type\"]]\n",
    "df_select.columns"
   ]
  },
  {
   "cell_type": "code",
   "execution_count": 32,
   "id": "74d4543c",
   "metadata": {},
   "outputs": [],
   "source": [
    "# Step 4: Clean your data for Decision Tree\n",
    "\n",
    "X = pd.get_dummies(df_select, \"class_of_admission\")\n",
    "y = df[\"case_status\"]"
   ]
  },
  {
   "cell_type": "code",
   "execution_count": 33,
   "id": "14c3ff99",
   "metadata": {},
   "outputs": [
    {
     "data": {
      "text/plain": [
       "case_status                0\n",
       "class_of_admission     22845\n",
       "application_type      239093\n",
       "dtype: int64"
      ]
     },
     "execution_count": 33,
     "metadata": {},
     "output_type": "execute_result"
    }
   ],
   "source": [
    "df_select.isnull().sum()"
   ]
  },
  {
   "cell_type": "code",
   "execution_count": 34,
   "id": "4acbba99",
   "metadata": {},
   "outputs": [],
   "source": [
    "final = df_select.dropna()"
   ]
  },
  {
   "cell_type": "code",
   "execution_count": 35,
   "id": "9fd1537c",
   "metadata": {},
   "outputs": [
    {
     "data": {
      "text/plain": [
       "case_status           0\n",
       "class_of_admission    0\n",
       "application_type      0\n",
       "dtype: int64"
      ]
     },
     "execution_count": 35,
     "metadata": {},
     "output_type": "execute_result"
    }
   ],
   "source": [
    "final.isnull().sum()"
   ]
  },
  {
   "cell_type": "code",
   "execution_count": 36,
   "id": "59c9f873",
   "metadata": {},
   "outputs": [
    {
     "data": {
      "text/html": [
       "<style>#sk-container-id-2 {color: black;background-color: white;}#sk-container-id-2 pre{padding: 0;}#sk-container-id-2 div.sk-toggleable {background-color: white;}#sk-container-id-2 label.sk-toggleable__label {cursor: pointer;display: block;width: 100%;margin-bottom: 0;padding: 0.3em;box-sizing: border-box;text-align: center;}#sk-container-id-2 label.sk-toggleable__label-arrow:before {content: \"▸\";float: left;margin-right: 0.25em;color: #696969;}#sk-container-id-2 label.sk-toggleable__label-arrow:hover:before {color: black;}#sk-container-id-2 div.sk-estimator:hover label.sk-toggleable__label-arrow:before {color: black;}#sk-container-id-2 div.sk-toggleable__content {max-height: 0;max-width: 0;overflow: hidden;text-align: left;background-color: #f0f8ff;}#sk-container-id-2 div.sk-toggleable__content pre {margin: 0.2em;color: black;border-radius: 0.25em;background-color: #f0f8ff;}#sk-container-id-2 input.sk-toggleable__control:checked~div.sk-toggleable__content {max-height: 200px;max-width: 100%;overflow: auto;}#sk-container-id-2 input.sk-toggleable__control:checked~label.sk-toggleable__label-arrow:before {content: \"▾\";}#sk-container-id-2 div.sk-estimator input.sk-toggleable__control:checked~label.sk-toggleable__label {background-color: #d4ebff;}#sk-container-id-2 div.sk-label input.sk-toggleable__control:checked~label.sk-toggleable__label {background-color: #d4ebff;}#sk-container-id-2 input.sk-hidden--visually {border: 0;clip: rect(1px 1px 1px 1px);clip: rect(1px, 1px, 1px, 1px);height: 1px;margin: -1px;overflow: hidden;padding: 0;position: absolute;width: 1px;}#sk-container-id-2 div.sk-estimator {font-family: monospace;background-color: #f0f8ff;border: 1px dotted black;border-radius: 0.25em;box-sizing: border-box;margin-bottom: 0.5em;}#sk-container-id-2 div.sk-estimator:hover {background-color: #d4ebff;}#sk-container-id-2 div.sk-parallel-item::after {content: \"\";width: 100%;border-bottom: 1px solid gray;flex-grow: 1;}#sk-container-id-2 div.sk-label:hover label.sk-toggleable__label {background-color: #d4ebff;}#sk-container-id-2 div.sk-serial::before {content: \"\";position: absolute;border-left: 1px solid gray;box-sizing: border-box;top: 0;bottom: 0;left: 50%;z-index: 0;}#sk-container-id-2 div.sk-serial {display: flex;flex-direction: column;align-items: center;background-color: white;padding-right: 0.2em;padding-left: 0.2em;position: relative;}#sk-container-id-2 div.sk-item {position: relative;z-index: 1;}#sk-container-id-2 div.sk-parallel {display: flex;align-items: stretch;justify-content: center;background-color: white;position: relative;}#sk-container-id-2 div.sk-item::before, #sk-container-id-2 div.sk-parallel-item::before {content: \"\";position: absolute;border-left: 1px solid gray;box-sizing: border-box;top: 0;bottom: 0;left: 50%;z-index: -1;}#sk-container-id-2 div.sk-parallel-item {display: flex;flex-direction: column;z-index: 1;position: relative;background-color: white;}#sk-container-id-2 div.sk-parallel-item:first-child::after {align-self: flex-end;width: 50%;}#sk-container-id-2 div.sk-parallel-item:last-child::after {align-self: flex-start;width: 50%;}#sk-container-id-2 div.sk-parallel-item:only-child::after {width: 0;}#sk-container-id-2 div.sk-dashed-wrapped {border: 1px dashed gray;margin: 0 0.4em 0.5em 0.4em;box-sizing: border-box;padding-bottom: 0.4em;background-color: white;}#sk-container-id-2 div.sk-label label {font-family: monospace;font-weight: bold;display: inline-block;line-height: 1.2em;}#sk-container-id-2 div.sk-label-container {text-align: center;}#sk-container-id-2 div.sk-container {/* jupyter's `normalize.less` sets `[hidden] { display: none; }` but bootstrap.min.css set `[hidden] { display: none !important; }` so we also need the `!important` here to be able to override the default hidden behavior on the sphinx rendered scikit-learn.org. See: https://github.com/scikit-learn/scikit-learn/issues/21755 */display: inline-block !important;position: relative;}#sk-container-id-2 div.sk-text-repr-fallback {display: none;}</style><div id=\"sk-container-id-2\" class=\"sk-top-container\"><div class=\"sk-text-repr-fallback\"><pre>DecisionTreeClassifier(max_depth=3)</pre><b>In a Jupyter environment, please rerun this cell to show the HTML representation or trust the notebook. <br />On GitHub, the HTML representation is unable to render, please try loading this page with nbviewer.org.</b></div><div class=\"sk-container\" hidden><div class=\"sk-item\"><div class=\"sk-estimator sk-toggleable\"><input class=\"sk-toggleable__control sk-hidden--visually\" id=\"sk-estimator-id-2\" type=\"checkbox\" checked><label for=\"sk-estimator-id-2\" class=\"sk-toggleable__label sk-toggleable__label-arrow\">DecisionTreeClassifier</label><div class=\"sk-toggleable__content\"><pre>DecisionTreeClassifier(max_depth=3)</pre></div></div></div></div></div>"
      ],
      "text/plain": [
       "DecisionTreeClassifier(max_depth=3)"
      ]
     },
     "execution_count": 36,
     "metadata": {},
     "output_type": "execute_result"
    }
   ],
   "source": [
    "# Step 5: Fit & Plot a Decision Tree at Depth 3\n",
    "\n",
    "clf = tree.DecisionTreeClassifier(max_depth = 3)\n",
    "clf.fit(X,y)"
   ]
  },
  {
   "cell_type": "code",
   "execution_count": 37,
   "id": "04a3e417",
   "metadata": {},
   "outputs": [
    {
     "data": {
      "text/plain": [
       "[Text(0.6666666666666666, 0.875, 'class_of_admission_Certified <= 0.5\\ngini = 0.599\\nsamples = 374362\\nvalue = [181933, 148586, 25649, 18194]'),\n",
       " Text(0.5, 0.625, 'class_of_admission_Certified-Expired <= 0.5\\ngini = 0.377\\nsamples = 192429\\nvalue = [0, 148586, 25649, 18194]'),\n",
       " Text(0.3333333333333333, 0.375, 'class_of_admission_Denied <= 0.5\\ngini = 0.486\\nsamples = 43843\\nvalue = [0, 0, 25649, 18194]'),\n",
       " Text(0.16666666666666666, 0.125, 'gini = 0.0\\nsamples = 18194\\nvalue = [0, 0, 0, 18194]'),\n",
       " Text(0.5, 0.125, 'gini = 0.0\\nsamples = 25649\\nvalue = [0, 0, 25649, 0]'),\n",
       " Text(0.6666666666666666, 0.375, 'gini = 0.0\\nsamples = 148586\\nvalue = [0, 148586, 0, 0]'),\n",
       " Text(0.8333333333333334, 0.625, 'gini = 0.0\\nsamples = 181933\\nvalue = [181933, 0, 0, 0]')]"
      ]
     },
     "execution_count": 37,
     "metadata": {},
     "output_type": "execute_result"
    },
    {
     "data": {
      "image/png": "[encoded data removed]",
      "text/plain": [
       "<Figure size 1440x576 with 1 Axes>"
      ]
     },
     "metadata": {
      "needs_background": "light"
     },
     "output_type": "display_data"
    }
   ],
   "source": [
    "plt.figure(figsize = (20,8))\n",
    "tree.plot_tree(clf,feature_names = X.columns )"
   ]
  },
  {
   "cell_type": "code",
   "execution_count": 38,
   "id": "15f0e59b",
   "metadata": {},
   "outputs": [],
   "source": [
    "# Step 6: Interpret"
   ]
  },
  {
   "cell_type": "markdown",
   "id": "b59247bf",
   "metadata": {},
   "source": [
    "**Analysis: The class of admission who are certified have a gini coefficient of 0.599 (leaning towards inequal), and contain a sample size of 374,362. Those who have a certification that was expired was 192,429 with a lower gini coefficient!**"
   ]
  },
  {
   "cell_type": "code",
   "execution_count": 39,
   "id": "69e9fcc0",
   "metadata": {},
   "outputs": [],
   "source": [
    "# Step 7: Using a for loop, make your own train-test split and determine the best max_depth for out-of sample accuracy"
   ]
  },
  {
   "cell_type": "code",
   "execution_count": 40,
   "id": "3e4931cf",
   "metadata": {},
   "outputs": [
    {
     "data": {
      "text/plain": [
       "[<matplotlib.lines.Line2D at 0x7f937ed550a0>]"
      ]
     },
     "execution_count": 40,
     "metadata": {},
     "output_type": "execute_result"
    },
    {
     "data": {
      "image/png": "[encoded data removed]",
      "text/plain": [
       "<Figure size 432x288 with 1 Axes>"
      ]
     },
     "metadata": {
      "needs_background": "light"
     },
     "output_type": "display_data"
    }
   ],
   "source": [
    "depth = []\n",
    "\n",
    "for i in range(1,10):\n",
    "    tree = DecisionTreeClassifier(max_depth=i)\n",
    "    tree.fit(X_train,y_train)\n",
    "    score = tree.score(X_test, y_test)\n",
    "    depth.append(score)\n",
    "\n",
    "\n",
    "plt.plot(range(1,10), depth)"
   ]
  },
  {
   "cell_type": "code",
   "execution_count": null,
   "id": "818e88d5",
   "metadata": {},
   "outputs": [],
   "source": []
  }
 ],
 "metadata": {
  "kernelspec": {
   "display_name": "Python 3",
   "language": "python",
   "name": "python3"
  },
  "language_info": {
   "codemirror_mode": {
    "name": "ipython",
    "version": 3
   },
   "file_extension": ".py",
   "mimetype": "text/x-python",
   "name": "python",
   "nbconvert_exporter": "python",
   "pygments_lexer": "ipython3",
   "version": "3.8.8"
  }
 },
 "nbformat": 4,
 "nbformat_minor": 5
}
