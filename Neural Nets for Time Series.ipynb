{
 "cells": [
  {
   "cell_type": "code",
   "execution_count": 120,
   "id": "e01f926e",
   "metadata": {},
   "outputs": [],
   "source": [
    "# Step 1: Import asset pricing from Yahoo Finance"
   ]
  },
  {
   "cell_type": "code",
   "execution_count": 221,
   "id": "01b1ff2a",
   "metadata": {},
   "outputs": [],
   "source": [
    "import yfinance as yf\n",
    "import numpy as np\n",
    "import pandas as pd\n",
    "from sklearn.preprocessing import MinMaxScaler\n",
    "from tensorflow.keras.models import Sequential\n",
    "from tensorflow.keras.layers import Dense, LSTM, Dropout\n",
    "from sklearn.metrics import confusion_matrix, accuracy_score, plot_confusion_matrix, classification_report\n",
    "import seaborn as sns\n",
    "import matplotlib.pyplot as plt"
   ]
  },
  {
   "cell_type": "code",
   "execution_count": 141,
   "id": "607e7403",
   "metadata": {},
   "outputs": [
    {
     "name": "stdout",
     "output_type": "stream",
     "text": [
      "[*********************100%***********************]  1 of 1 completed\n"
     ]
    }
   ],
   "source": [
    "stock_data = yf.download(\"GS\", start=\"1990-05-04\", end=\"2022-02-21\")\n",
    "scaled_data = np.array(stock_data[\"Close\"].pct_change().dropna()).reshape(-1,1)\n",
    "training_data_len = int(len(scaled_data) * 0.8)\n",
    "train_data = scaled_data[0:training_data_len, :]"
   ]
  },
  {
   "cell_type": "code",
   "execution_count": 145,
   "id": "6256abb4",
   "metadata": {},
   "outputs": [],
   "source": [
    "# Step 2: Create x_train & y_train data so RNN uses percentage change data to make a binary forecast"
   ]
  },
  {
   "cell_type": "code",
   "execution_count": 146,
   "id": "28778324",
   "metadata": {},
   "outputs": [],
   "source": [
    "x_train = []\n",
    "y_train = []\n",
    "\n",
    "input_size = 4\n",
    "for i in range(input_size, len(train_data)):\n",
    "    x_train.append(train_data[i-input_size:i, 0])\n",
    "    y_train.append(train_data[i, 0])"
   ]
  },
  {
   "cell_type": "code",
   "execution_count": 147,
   "id": "232679dc",
   "metadata": {},
   "outputs": [],
   "source": [
    "x_train, y_train = np.array(x_train), np.array(y_train)\n",
    "x_train = np.reshape(x_train, (x_train.shape[0], x_train.shape[1], 1))"
   ]
  },
  {
   "cell_type": "code",
   "execution_count": 148,
   "id": "ae4d22a5",
   "metadata": {},
   "outputs": [],
   "source": [
    "mu = y_train.mean()\n",
    "volume = y_train.std()"
   ]
  },
  {
   "cell_type": "code",
   "execution_count": 190,
   "id": "b525cfb5",
   "metadata": {},
   "outputs": [],
   "source": [
    "RW = np.random.normal(mu,volume,len(x_train))\n",
    "df_in = pd.DataFrame(RW, columns=['RW'])\n",
    "df_in['RW'] = df_in['RW'].apply(lambda y: 1 if y>0 else 0)"
   ]
  },
  {
   "cell_type": "code",
   "execution_count": 192,
   "id": "7b8dea02",
   "metadata": {},
   "outputs": [],
   "source": [
    "y= pd.DataFrame(y_train, columns=['y_train'])"
   ]
  },
  {
   "cell_type": "code",
   "execution_count": 193,
   "id": "315cbd97",
   "metadata": {},
   "outputs": [],
   "source": [
    "y['y_train'] = y['y_train'].apply(lambda y: 1 if y>0 else 0)"
   ]
  },
  {
   "cell_type": "code",
   "execution_count": 194,
   "id": "c2617b50",
   "metadata": {},
   "outputs": [],
   "source": [
    "y_train = np.array(y)"
   ]
  },
  {
   "cell_type": "code",
   "execution_count": 195,
   "id": "92dab2ba",
   "metadata": {},
   "outputs": [
    {
     "name": "stdout",
     "output_type": "stream",
     "text": [
      "Epoch 1/5\n",
      "144/144 [==============================] - 4s 6ms/step - loss: 0.6931\n",
      "Epoch 2/5\n",
      "144/144 [==============================] - 1s 6ms/step - loss: 0.6935\n",
      "Epoch 3/5\n",
      "144/144 [==============================] - 1s 6ms/step - loss: 0.6932\n",
      "Epoch 4/5\n",
      "144/144 [==============================] - 1s 6ms/step - loss: 0.6933\n",
      "Epoch 5/5\n",
      "144/144 [==============================] - 1s 6ms/step - loss: 0.6932\n"
     ]
    },
    {
     "data": {
      "text/plain": [
       "<keras.callbacks.History at 0x7fd31173f5b0>"
      ]
     },
     "execution_count": 195,
     "metadata": {},
     "output_type": "execute_result"
    }
   ],
   "source": [
    "model = Sequential()\n",
    "model.add(LSTM(x_train.shape[1], return_sequences=True, input_shape=(x_train.shape[1], 1)))\n",
    "model.add(LSTM(150, return_sequences=False))\n",
    "model.add(Dense(1, activation = 'sigmoid'))\n",
    "model.compile(optimizer='adam', loss='binary_crossentropy')\n",
    "model.fit(x_train, y_train, epochs=5)"
   ]
  },
  {
   "cell_type": "code",
   "execution_count": 196,
   "id": "f7f0f5e8",
   "metadata": {},
   "outputs": [
    {
     "name": "stdout",
     "output_type": "stream",
     "text": [
      "144/144 [==============================] - 1s 3ms/step\n"
     ]
    }
   ],
   "source": [
    "y_train_pred = model.predict(x_train)"
   ]
  },
  {
   "cell_type": "code",
   "execution_count": 197,
   "id": "73238367",
   "metadata": {},
   "outputs": [],
   "source": [
    "df_in['y_train_pred'] = y_train_pred \n",
    "df_in['y_train_pred'] = df_in['y_train_pred'].apply(lambda y: 1 if y>0.5 else 0)\n",
    "df_in['y_train'] = y_train"
   ]
  },
  {
   "cell_type": "code",
   "execution_count": 200,
   "id": "ec6a49d5",
   "metadata": {},
   "outputs": [],
   "source": [
    "in_acc = round(accuracy_score(df_in['y_train'], df_in['y_train_pred']),2)"
   ]
  },
  {
   "cell_type": "code",
   "execution_count": 201,
   "id": "70436cf7",
   "metadata": {},
   "outputs": [
    {
     "data": {
      "text/plain": [
       "0.51"
      ]
     },
     "execution_count": 201,
     "metadata": {},
     "output_type": "execute_result"
    }
   ],
   "source": [
    "in_acc"
   ]
  },
  {
   "cell_type": "code",
   "execution_count": 203,
   "id": "03804a82",
   "metadata": {},
   "outputs": [],
   "source": [
    "RW_sample_acc = round(accuracy_score(df_in['y_train'], df_in['RW']),2)"
   ]
  },
  {
   "cell_type": "code",
   "execution_count": 204,
   "id": "844b503a",
   "metadata": {},
   "outputs": [
    {
     "data": {
      "text/plain": [
       "0.49"
      ]
     },
     "execution_count": 204,
     "metadata": {},
     "output_type": "execute_result"
    }
   ],
   "source": [
    "RW_sample_acc"
   ]
  },
  {
   "cell_type": "code",
   "execution_count": 205,
   "id": "528cc5e6",
   "metadata": {
    "scrolled": true
   },
   "outputs": [
    {
     "data": {
      "text/html": [
       "<div>\n",
       "<style scoped>\n",
       "    .dataframe tbody tr th:only-of-type {\n",
       "        vertical-align: middle;\n",
       "    }\n",
       "\n",
       "    .dataframe tbody tr th {\n",
       "        vertical-align: top;\n",
       "    }\n",
       "\n",
       "    .dataframe thead th {\n",
       "        text-align: right;\n",
       "    }\n",
       "</style>\n",
       "<table border=\"1\" class=\"dataframe\">\n",
       "  <thead>\n",
       "    <tr style=\"text-align: right;\">\n",
       "      <th></th>\n",
       "      <th>RW</th>\n",
       "      <th>y_train_pred</th>\n",
       "      <th>y_train</th>\n",
       "    </tr>\n",
       "  </thead>\n",
       "  <tbody>\n",
       "    <tr>\n",
       "      <th>0</th>\n",
       "      <td>0</td>\n",
       "      <td>1</td>\n",
       "      <td>0</td>\n",
       "    </tr>\n",
       "    <tr>\n",
       "      <th>1</th>\n",
       "      <td>0</td>\n",
       "      <td>1</td>\n",
       "      <td>1</td>\n",
       "    </tr>\n",
       "    <tr>\n",
       "      <th>2</th>\n",
       "      <td>0</td>\n",
       "      <td>1</td>\n",
       "      <td>0</td>\n",
       "    </tr>\n",
       "    <tr>\n",
       "      <th>3</th>\n",
       "      <td>1</td>\n",
       "      <td>1</td>\n",
       "      <td>0</td>\n",
       "    </tr>\n",
       "    <tr>\n",
       "      <th>4</th>\n",
       "      <td>1</td>\n",
       "      <td>1</td>\n",
       "      <td>0</td>\n",
       "    </tr>\n",
       "    <tr>\n",
       "      <th>...</th>\n",
       "      <td>...</td>\n",
       "      <td>...</td>\n",
       "      <td>...</td>\n",
       "    </tr>\n",
       "    <tr>\n",
       "      <th>4581</th>\n",
       "      <td>1</td>\n",
       "      <td>1</td>\n",
       "      <td>1</td>\n",
       "    </tr>\n",
       "    <tr>\n",
       "      <th>4582</th>\n",
       "      <td>1</td>\n",
       "      <td>1</td>\n",
       "      <td>1</td>\n",
       "    </tr>\n",
       "    <tr>\n",
       "      <th>4583</th>\n",
       "      <td>0</td>\n",
       "      <td>1</td>\n",
       "      <td>0</td>\n",
       "    </tr>\n",
       "    <tr>\n",
       "      <th>4584</th>\n",
       "      <td>0</td>\n",
       "      <td>1</td>\n",
       "      <td>1</td>\n",
       "    </tr>\n",
       "    <tr>\n",
       "      <th>4585</th>\n",
       "      <td>0</td>\n",
       "      <td>1</td>\n",
       "      <td>1</td>\n",
       "    </tr>\n",
       "  </tbody>\n",
       "</table>\n",
       "<p>4586 rows × 3 columns</p>\n",
       "</div>"
      ],
      "text/plain": [
       "      RW  y_train_pred  y_train\n",
       "0      0             1        0\n",
       "1      0             1        1\n",
       "2      0             1        0\n",
       "3      1             1        0\n",
       "4      1             1        0\n",
       "...   ..           ...      ...\n",
       "4581   1             1        1\n",
       "4582   1             1        1\n",
       "4583   0             1        0\n",
       "4584   0             1        1\n",
       "4585   0             1        1\n",
       "\n",
       "[4586 rows x 3 columns]"
      ]
     },
     "execution_count": 205,
     "metadata": {},
     "output_type": "execute_result"
    }
   ],
   "source": [
    "df_in"
   ]
  },
  {
   "cell_type": "code",
   "execution_count": 206,
   "id": "19a8c9dc",
   "metadata": {},
   "outputs": [],
   "source": [
    "# Step 3: Test your model and compare insample Accurracy, insample random walk assumption Accuracy, \n",
    "# Out of sample Accuracy and out of sample random walk assumption Accuracy using a bar chart"
   ]
  },
  {
   "cell_type": "code",
   "execution_count": 207,
   "id": "3880c9b3",
   "metadata": {},
   "outputs": [
    {
     "name": "stdout",
     "output_type": "stream",
     "text": [
      "36/36 [==============================] - 0s 3ms/step\n"
     ]
    }
   ],
   "source": [
    "test_data = scaled_data[training_data_len - input_size:, :]\n",
    "\n",
    "x_test = []\n",
    "y_test = np.array(stock_data[[\"Close\"]].pct_change().dropna())[training_data_len:, :]\n",
    "for i in range(input_size, len(test_data)):\n",
    "    x_test.append(test_data[i-input_size:i, 0])\n",
    "\n",
    "x_test = np.array(x_test)\n",
    "x_test = np.reshape(x_test, (x_test.shape[0], x_test.shape[1], 1))\n",
    "\n",
    "predictions = model.predict(x_test)"
   ]
  },
  {
   "cell_type": "code",
   "execution_count": 208,
   "id": "f9446820",
   "metadata": {},
   "outputs": [],
   "source": [
    "y = pd.DataFrame(y_test, columns=['y_test'])"
   ]
  },
  {
   "cell_type": "code",
   "execution_count": 209,
   "id": "c822ed37",
   "metadata": {},
   "outputs": [],
   "source": [
    "y['y_test'] = y['y_test'].apply(lambda y: 1 if y>0 else 0)"
   ]
  },
  {
   "cell_type": "code",
   "execution_count": 210,
   "id": "3c934681",
   "metadata": {},
   "outputs": [],
   "source": [
    "y['pred'] = predictions"
   ]
  },
  {
   "cell_type": "code",
   "execution_count": 211,
   "id": "ec928926",
   "metadata": {},
   "outputs": [],
   "source": [
    "y['pred'] = y['pred'].apply(lambda y: 1 if y>0 else 0)"
   ]
  },
  {
   "cell_type": "code",
   "execution_count": 212,
   "id": "dc8e76e8",
   "metadata": {},
   "outputs": [],
   "source": [
    "RW_test = np.random.normal(mu,volume,len(x_test))"
   ]
  },
  {
   "cell_type": "code",
   "execution_count": 213,
   "id": "52344441",
   "metadata": {},
   "outputs": [
    {
     "data": {
      "text/html": [
       "<div>\n",
       "<style scoped>\n",
       "    .dataframe tbody tr th:only-of-type {\n",
       "        vertical-align: middle;\n",
       "    }\n",
       "\n",
       "    .dataframe tbody tr th {\n",
       "        vertical-align: top;\n",
       "    }\n",
       "\n",
       "    .dataframe thead th {\n",
       "        text-align: right;\n",
       "    }\n",
       "</style>\n",
       "<table border=\"1\" class=\"dataframe\">\n",
       "  <thead>\n",
       "    <tr style=\"text-align: right;\">\n",
       "      <th></th>\n",
       "      <th>y_test</th>\n",
       "      <th>pred</th>\n",
       "      <th>RW</th>\n",
       "    </tr>\n",
       "  </thead>\n",
       "  <tbody>\n",
       "    <tr>\n",
       "      <th>0</th>\n",
       "      <td>1</td>\n",
       "      <td>1</td>\n",
       "      <td>0</td>\n",
       "    </tr>\n",
       "    <tr>\n",
       "      <th>1</th>\n",
       "      <td>0</td>\n",
       "      <td>1</td>\n",
       "      <td>0</td>\n",
       "    </tr>\n",
       "    <tr>\n",
       "      <th>2</th>\n",
       "      <td>0</td>\n",
       "      <td>1</td>\n",
       "      <td>1</td>\n",
       "    </tr>\n",
       "    <tr>\n",
       "      <th>3</th>\n",
       "      <td>1</td>\n",
       "      <td>1</td>\n",
       "      <td>0</td>\n",
       "    </tr>\n",
       "    <tr>\n",
       "      <th>4</th>\n",
       "      <td>1</td>\n",
       "      <td>1</td>\n",
       "      <td>1</td>\n",
       "    </tr>\n",
       "    <tr>\n",
       "      <th>...</th>\n",
       "      <td>...</td>\n",
       "      <td>...</td>\n",
       "      <td>...</td>\n",
       "    </tr>\n",
       "    <tr>\n",
       "      <th>1143</th>\n",
       "      <td>0</td>\n",
       "      <td>1</td>\n",
       "      <td>0</td>\n",
       "    </tr>\n",
       "    <tr>\n",
       "      <th>1144</th>\n",
       "      <td>1</td>\n",
       "      <td>1</td>\n",
       "      <td>0</td>\n",
       "    </tr>\n",
       "    <tr>\n",
       "      <th>1145</th>\n",
       "      <td>0</td>\n",
       "      <td>1</td>\n",
       "      <td>1</td>\n",
       "    </tr>\n",
       "    <tr>\n",
       "      <th>1146</th>\n",
       "      <td>0</td>\n",
       "      <td>1</td>\n",
       "      <td>0</td>\n",
       "    </tr>\n",
       "    <tr>\n",
       "      <th>1147</th>\n",
       "      <td>0</td>\n",
       "      <td>1</td>\n",
       "      <td>1</td>\n",
       "    </tr>\n",
       "  </tbody>\n",
       "</table>\n",
       "<p>1148 rows × 3 columns</p>\n",
       "</div>"
      ],
      "text/plain": [
       "      y_test  pred  RW\n",
       "0          1     1   0\n",
       "1          0     1   0\n",
       "2          0     1   1\n",
       "3          1     1   0\n",
       "4          1     1   1\n",
       "...      ...   ...  ..\n",
       "1143       0     1   0\n",
       "1144       1     1   0\n",
       "1145       0     1   1\n",
       "1146       0     1   0\n",
       "1147       0     1   1\n",
       "\n",
       "[1148 rows x 3 columns]"
      ]
     },
     "execution_count": 213,
     "metadata": {},
     "output_type": "execute_result"
    }
   ],
   "source": [
    "y['RW'] = RW_test\n",
    "y['RW'] = y['RW'].apply(lambda y: 1 if y>0 else 0)\n",
    "y"
   ]
  },
  {
   "cell_type": "code",
   "execution_count": 214,
   "id": "b7bb3390",
   "metadata": {},
   "outputs": [
    {
     "name": "stdout",
     "output_type": "stream",
     "text": [
      "Out of Sample Accuracy: 0.5\n"
     ]
    }
   ],
   "source": [
    "out_sample = round(accuracy_score(y['y_test'], y['pred']),2)\n",
    "print(\"Out of Sample Accuracy:\", out_sample)"
   ]
  },
  {
   "cell_type": "code",
   "execution_count": 216,
   "id": "07a23437",
   "metadata": {
    "scrolled": true
   },
   "outputs": [
    {
     "name": "stdout",
     "output_type": "stream",
     "text": [
      "Random Walk Accuracy: 0.49\n"
     ]
    }
   ],
   "source": [
    "RW_test_acc = round(accuracy_score(y['y_test'], y['RW']),2)\n",
    "print(\"Random Walk Accuracy:\", RW_test_acc)"
   ]
  },
  {
   "cell_type": "code",
   "execution_count": 217,
   "id": "bd65f232",
   "metadata": {},
   "outputs": [],
   "source": [
    "#Step 4: Plot in and out of sample accuracy"
   ]
  },
  {
   "cell_type": "code",
   "execution_count": 230,
   "id": "d760bfc4",
   "metadata": {},
   "outputs": [
    {
     "data": {
      "image/png": "[encoded data removed]",
      "text/plain": [
       "<Figure size 1800x900 with 1 Axes>"
      ]
     },
     "metadata": {
      "needs_background": "light"
     },
     "output_type": "display_data"
    }
   ],
   "source": [
    "plt.figure(figsize=(12,6), dpi=150)\n",
    "height = [51, 49, 50, 49]\n",
    "bars = ('RNN In Sample Accuracy', 'RW In Sample Accuracy', 'RNN Out of Sample Accuracy', 'RW Out of Sample Accuracy')\n",
    "y_pos = np.arange(len(bars))\n",
    "plt.bar(y_pos, height, color = '#097969')\n",
    "plt.xticks(y_pos, bars)\n",
    "plt.show()"
   ]
  },
  {
   "cell_type": "code",
   "execution_count": null,
   "id": "5973adb0",
   "metadata": {},
   "outputs": [],
   "source": [
    "# Analysis: There's not much of a different between in and out of sample accuracy"
   ]
  }
 ],
 "metadata": {
  "kernelspec": {
   "display_name": "Python 3",
   "language": "python",
   "name": "python3"
  },
  "language_info": {
   "codemirror_mode": {
    "name": "ipython",
    "version": 3
   },
   "file_extension": ".py",
   "mimetype": "text/x-python",
   "name": "python",
   "nbconvert_exporter": "python",
   "pygments_lexer": "ipython3",
   "version": "3.8.8"
  }
 },
 "nbformat": 4,
 "nbformat_minor": 5
}
